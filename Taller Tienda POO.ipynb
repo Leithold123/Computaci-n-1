{
  "nbformat": 4,
  "nbformat_minor": 0,
  "metadata": {
    "colab": {
      "provenance": [],
      "authorship_tag": "ABX9TyPwTs9f1SD7KIxDfJgdJk7p",
      "include_colab_link": true
    },
    "kernelspec": {
      "name": "python3",
      "display_name": "Python 3"
    },
    "language_info": {
      "name": "python"
    }
  },
  "cells": [
    {
      "cell_type": "markdown",
      "metadata": {
        "id": "view-in-github",
        "colab_type": "text"
      },
      "source": [
        "<a href=\"https://colab.research.google.com/github/Leithold123/Computaci-n-1/blob/main/Taller%20Tienda%20POO.ipynb\" target=\"_parent\"><img src=\"https://colab.research.google.com/assets/colab-badge.svg\" alt=\"Open In Colab\"/></a>"
      ]
    },
    {
      "cell_type": "code",
      "execution_count": 11,
      "metadata": {
        "colab": {
          "base_uri": "https://localhost:8080/"
        },
        "id": "GT6Du1gy4-e8",
        "outputId": "876aaa99-3bcd-4e1f-d228-b78bb25ca2b8"
      },
      "outputs": [
        {
          "output_type": "stream",
          "name": "stdout",
          "text": [
            " es papel y cuesta 1800\n",
            "la tienda es el D1 de la 42 y sus productos ordenados por precio son [ aceite pequeño,1500,alimento,  papel,1800,aseo,  arroz,2000,alimento,  cafe,2000,alimento,  jabon Axion,2000,alimento,  jabon de manos,2500,aseo,  clorox,2600,aseo,  leche,3000,alimento,  pasta,3000,alimento,  garbanzo,4000,alimento,  aceite grande,5000,alimento,  huevos,15000,alimento]\n",
            " el producto mas caro del D1 de la 24 es huevos y cuesta 15000\n",
            "los productos de aseo de la tienda D1 de la 42 son: \n",
            "papel\n",
            "jabon de manos\n",
            "clorox\n",
            "los alimentos de la tienda D1 de la 72 son: \n",
            "aceite pequeño\n",
            "arroz\n",
            "cafe\n",
            "lentejas\n",
            "pasta\n",
            "garbanzo\n",
            "frijol\n",
            "aceite grande\n",
            "El producto arroz esta en el D1 de la 24\n",
            "El producto arroz esta en el D1 de la 42\n",
            "El producto arroz esta en el D1 de la 72\n"
          ]
        }
      ],
      "source": [
        "class producto:\n",
        "  def __init__(self,nombre,precio,categoria):\n",
        "    self.nombre=nombre\n",
        "    self.precio=precio\n",
        "    self.categoria=categoria\n",
        "  def __str__(self):\n",
        "    return f\" es {self.nombre} y cuesta {self.precio}\"\n",
        "  def __repr__(self):\n",
        "    return f\" {self.nombre},{self.precio},{self.categoria}\"\n",
        "  def __eq__(self,other):\n",
        "    if self.nombre== other.nombre:\n",
        "      if self.categoria== other.categoria:\n",
        "        return True\n",
        "    return False\n",
        "  def __lt__(self,other):\n",
        "    if self.precio==other.precio:\n",
        "      return False\n",
        "    return self.precio<other.precio\n",
        "  def __gt_(self,other):\n",
        "    if self.precio==other.precio:\n",
        "      return False\n",
        "    return self.precio>other.precio\n",
        "  def buscar(self):\n",
        "    if self in list_productos1:\n",
        "      print(f\"El producto {self.nombre} esta en el D1 de la 24\")\n",
        "    pass\n",
        "    if self in list_productos2:\n",
        "      print(f\"El producto {self.nombre} esta en el D1 de la 42\")\n",
        "    pass\n",
        "    if self in list_productos3:\n",
        "      print(f\"El producto {self.nombre} esta en el D1 de la 72\")\n",
        "    pass\n",
        "\n",
        "p1=producto(\"aceite pequeño\",1500,\"alimento\")\n",
        "p2=producto(\"papel\",1800,\"aseo\")\n",
        "p3=producto(\"arroz\",2000,\"alimento\")\n",
        "p4=producto(\"cafe\",2000,\"alimento\")\n",
        "p5=producto(\"jabon Axion\",2000,\"alimento\")\n",
        "p6=producto(\"jabon de manos\",2500,\"aseo\")\n",
        "p7=producto(\"lentejas\",2500,\"alimento\")\n",
        "p8=producto(\"clorox\",2600,\"aseo\")\n",
        "p9=producto(\"leche\",3000,\"alimento\")\n",
        "p10=producto(\"pasta\",3000,\"alimento\")\n",
        "p11=producto(\"jabon rey\",3200,\"aseo\")\n",
        "p12=producto(\"garbanzo\",4000,\"alimento\")\n",
        "p13=producto(\"frijol\",5000,\"alimento\")\n",
        "p14=producto(\"aceite grande\",5000,\"alimento\")\n",
        "p15=producto(\"huevos\",15000,\"alimento\")\n",
        "\n",
        "list_productos1=[p2,p3,p4,p5,p6,p7,p8,p9,p10,p11,p12,p13,p14,p15]\n",
        "list_productos2=[p1,p2,p3,p4,p5,p6,p8,p9,p10,p12,p14,p15]\n",
        "list_productos3=[p1,p3,p4,p6,p7,p8,p10,p11,p12,p13,p14]\n",
        "\n",
        "class Tienda:\n",
        "  def __init__(self,nombre_tienda,productos):\n",
        "    self.nombre=nombre_tienda\n",
        "    self.productos=productos\n",
        "  def __repr__(self):\n",
        "    return f\"la tienda es el {self.nombre} y sus productos ordenados por precio son {self.productos}\"\n",
        "  def producto_mas_caro(self):\n",
        "    print(f\" el producto mas caro del {self.nombre}{self.productos[-1]}\")\n",
        "  def producto_mas_barato(self):\n",
        "    print(f\" el producto mas barato del {self.nombre}{self.productos[0]}\")\n",
        "  def obtener_lista_productos_alimentos(self):\n",
        "    print(f\"los alimentos de la tienda {self.nombre} son: \")\n",
        "    for i in self.productos:\n",
        "      if i.categoria == \"alimento\":\n",
        "        print(i.nombre)\n",
        "  def obtener_lista_productos_aseo (self):\n",
        "    print(f\"los productos de aseo de la tienda {self.nombre} son: \")\n",
        "    for i in self.productos:\n",
        "      if i.categoria == \"aseo\":\n",
        "        print(i.nombre)\n",
        "\n",
        "t1=Tienda(\"D1 de la 24\",list_productos1)\n",
        "t2=Tienda(\"D1 de la 42\",list_productos2)\n",
        "t3=Tienda(\"D1 de la 72\",list_productos3)\n",
        "\n",
        "print(p2)\n",
        "print(t2)\n",
        "t1.producto_mas_caro()\n",
        "t2.obtener_lista_productos_aseo()\n",
        "t3.obtener_lista_productos_alimentos()\n",
        "p3.buscar()\n",
        "\n",
        "\n",
        "\n",
        "\n"
      ]
    },
    {
      "cell_type": "code",
      "source": [],
      "metadata": {
        "id": "KCXioZ7aoC5q"
      },
      "execution_count": null,
      "outputs": []
    }
  ]
}