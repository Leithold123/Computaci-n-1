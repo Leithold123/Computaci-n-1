{
  "nbformat": 4,
  "nbformat_minor": 0,
  "metadata": {
    "colab": {
      "provenance": [],
      "history_visible": true,
      "authorship_tag": "ABX9TyO0OYpLeL7pZXj02c+UNWSJ",
      "include_colab_link": true
    },
    "kernelspec": {
      "name": "python3",
      "display_name": "Python 3"
    },
    "language_info": {
      "name": "python"
    }
  },
  "cells": [
    {
      "cell_type": "markdown",
      "metadata": {
        "id": "view-in-github",
        "colab_type": "text"
      },
      "source": [
        "<a href=\"https://colab.research.google.com/github/Leithold123/Computaci-n-1/blob/main/Taller%20cartas%20POO.ipynb\" target=\"_parent\"><img src=\"https://colab.research.google.com/assets/colab-badge.svg\" alt=\"Open In Colab\"/></a>"
      ]
    },
    {
      "cell_type": "code",
      "execution_count": 149,
      "metadata": {
        "colab": {
          "base_uri": "https://localhost:8080/"
        },
        "id": "17LC0xIltTmX",
        "outputId": "a9f56873-87b5-4811-dd7f-18e825d4f3bb"
      },
      "outputs": [
        {
          "output_type": "stream",
          "name": "stdout",
          "text": [
            "la baraja es:  \n",
            "A de Trebol\n",
            "2 de Trebol\n",
            "3 de Trebol\n",
            "4 de Trebol\n",
            "5 de Trebol\n",
            "6 de Trebol\n",
            "7 de Trebol\n",
            "8 de Trebol\n",
            "9 de Trebol\n",
            "10 de Trebol\n",
            "J de Trebol\n",
            "Q de Trebol\n",
            "k de Trebol\n",
            "A de Diamante\n",
            "2 de Diamante\n",
            "3 de Diamante\n",
            "4 de Diamante\n",
            "5 de Diamante\n",
            "6 de Diamante\n",
            "7 de Diamante\n",
            "8 de Diamante\n",
            "9 de Diamante\n",
            "10 de Diamante\n",
            "J de Diamante\n",
            "Q de Diamante\n",
            "k de Diamante\n",
            "A de Pica\n",
            "2 de Pica\n",
            "3 de Pica\n",
            "4 de Pica\n",
            "5 de Pica\n",
            "6 de Pica\n",
            "7 de Pica\n",
            "8 de Pica\n",
            "9 de Pica\n",
            "10 de Pica\n",
            "J de Pica\n",
            "Q de Pica\n",
            "k de Pica\n",
            "A de Corazon\n",
            "2 de Corazon\n",
            "3 de Corazon\n",
            "4 de Corazon\n",
            "5 de Corazon\n",
            "6 de Corazon\n",
            "7 de Corazon\n",
            "8 de Corazon\n",
            "9 de Corazon\n",
            "10 de Corazon\n",
            "J de Corazon\n",
            "Q de Corazon\n",
            "[<__main__.Cartas object at 0x78c2c1c8f310>, <__main__.Cartas object at 0x78c2c24b4190>, <__main__.Cartas object at 0x78c2c1c8f190>, <__main__.Cartas object at 0x78c2c1c943d0>, <__main__.Cartas object at 0x78c2c1c95450>, <__main__.Cartas object at 0x78c2c1c96c90>, <__main__.Cartas object at 0x78c2c1c97390>, <__main__.Cartas object at 0x78c2c1c952d0>, <__main__.Cartas object at 0x78c2c1c96810>, <__main__.Cartas object at 0x78c2c1c95510>, <__main__.Cartas object at 0x78c2c1c971d0>, <__main__.Cartas object at 0x78c2c1c97d90>, <__main__.Cartas object at 0x78c2c1c96f50>, <__main__.Cartas object at 0x78c2c1c96fd0>, <__main__.Cartas object at 0x78c2c1c94f50>, <__main__.Cartas object at 0x78c2c1c95a10>, <__main__.Cartas object at 0x78c2c1c954d0>, <__main__.Cartas object at 0x78c2c1c97210>, <__main__.Cartas object at 0x78c2c1c96210>, <__main__.Cartas object at 0x78c2c1c95b10>, <__main__.Cartas object at 0x78c2c1c947d0>, <__main__.Cartas object at 0x78c2c1c94dd0>, <__main__.Cartas object at 0x78c2c1c95690>, <__main__.Cartas object at 0x78c2c1c968d0>, <__main__.Cartas object at 0x78c2c1c95d10>, <__main__.Cartas object at 0x78c2c1c94190>, <__main__.Cartas object at 0x78c2c1c96a90>, <__main__.Cartas object at 0x78c2c1c95a50>, <__main__.Cartas object at 0x78c2c1c979d0>, <__main__.Cartas object at 0x78c2c1c960d0>, <__main__.Cartas object at 0x78c2c1c96490>, <__main__.Cartas object at 0x78c2c1c941d0>, <__main__.Cartas object at 0x78c2c1c95e10>, <__main__.Cartas object at 0x78c2c1c95990>, <__main__.Cartas object at 0x78c2c1c96650>, <__main__.Cartas object at 0x78c2c1c97d10>, <__main__.Cartas object at 0x78c2c1c967d0>, <__main__.Cartas object at 0x78c2c1c94610>, <__main__.Cartas object at 0x78c2c1c94d50>, <__main__.Cartas object at 0x78c2c1c94590>, <__main__.Cartas object at 0x78c2c1c95850>, <__main__.Cartas object at 0x78c2c1c95fd0>, <__main__.Cartas object at 0x78c2c1c95f10>, <__main__.Cartas object at 0x78c2c1c97ed0>, <__main__.Cartas object at 0x78c2c1c94390>, <__main__.Cartas object at 0x78c2c1c970d0>, <__main__.Cartas object at 0x78c2c1c96750>, <__main__.Cartas object at 0x78c2c1c94290>, <__main__.Cartas object at 0x78c2c1c94bd0>, <__main__.Cartas object at 0x78c2c1c95490>, <__main__.Cartas object at 0x78c2c1c97290>, <__main__.Cartas object at 0x78c2c1c96710>]\n"
          ]
        }
      ],
      "source": [
        "import random\n",
        "\n",
        "\n",
        "P=[\"Trebol\",\"Diamante\",\"Pica\",\"Corazon\"]\n",
        "I=[\"A\",2,3,4,5,6,7,8,9,10,\"J\",\"Q\",\"k\"]\n",
        "class Cartas:\n",
        "  def __init__(self,Palo,identificador):\n",
        "    self.Palo=Palo\n",
        "    self.identificador=identificador\n",
        "  def mostrar(self):\n",
        "    print(f\"La carta es {self.identificador} de {self.Palo}\")\n",
        "  def posición(self):\n",
        "    print(f\"{self.identificador} de {self.Palo}\")\n",
        "\n",
        "  def __lt__(self,other):\n",
        "    if self.Palo == other.Palo:\n",
        "      if self.identificador == other.identificador:\n",
        "        print(\"Las cartas son iguales\")\n",
        "      return(\"son distintas\")\n",
        "    return(\"son distintas\")\n",
        "\n",
        "list=[]\n",
        "\n",
        "for i in P:\n",
        "  for k in I:\n",
        "    c= Cartas(i,k)\n",
        "    list.append(c)\n",
        "\n",
        "class baraja:\n",
        "  def __init__(self,lista):\n",
        "    self.lista=lista\n",
        "  def revelar(self):\n",
        "    print(f\"la baraja es:  \")\n",
        "    for i in range(0,51):\n",
        "       list[i].posición()\n",
        "  def desordenar(self):\n",
        "    random.shuffle(list)\n",
        "\n"
      ]
    },
    {
      "cell_type": "code",
      "source": [],
      "metadata": {
        "id": "hCX3xWL2lFWB"
      },
      "execution_count": null,
      "outputs": []
    }
  ]
}